{
 "cells": [
  {
   "cell_type": "code",
   "execution_count": 1,
   "metadata": {},
   "outputs": [],
   "source": [
    "import sys\n",
    "sys.path.append(\"/home/graeme\")\n",
    "sys.path.append(\"/home/graeme/ElexonDataManager/ElexonDataManager\")"
   ]
  },
  {
   "cell_type": "code",
   "execution_count": 24,
   "metadata": {},
   "outputs": [],
   "source": [
    "import psycopg2\n",
    "import pandas as pd\n",
    "import datetime as dt\n",
    "import gzip\n",
    "import numpy as np\n",
    "import pytz\n",
    "import math\n",
    "from tqdm import tqdm_notebook\n",
    "#from ElexonDataManager.BMRA.management.commands import _upload_functions as uf\n",
    "#from ElexonDataManager.BMRA.management.commands import _download_functions as df\n",
    "from ElexonDataManager.ElexonDataManager.settings import DATABASES\n",
    "from ElexonDataManager.ElexonDataManager.utils import dt_to_sp"
   ]
  },
  {
   "cell_type": "code",
   "execution_count": 3,
   "metadata": {},
   "outputs": [],
   "source": [
    "start_date, end_date = dt.date(2017,1,1), dt.date(2019,7,17)\n",
    "transition_days = [dt.date(x.year, x.month, x.day) for x in pytz.timezone('Europe/London')._utc_transition_times]\n",
    "\n",
    "blank_df = pd.DataFrame(columns = ['sd', 'sp'])\n",
    "curr_date = start_date\n",
    "while curr_date <= end_date:\n",
    "    curr_sp = 1\n",
    "    if curr_date in transition_days[::2]:\n",
    "        max_sp = 46\n",
    "    elif curr_date in transition_days[1::2]:\n",
    "        max_sp = 50\n",
    "    else:\n",
    "        max_sp = 48\n",
    "    while curr_sp <= max_sp:\n",
    "        new_data = pd.DataFrame([[curr_date, curr_sp]], columns = ['sd', 'sp'])\n",
    "        blank_df = blank_df.append(new_data)\n",
    "        curr_sp += 1\n",
    "    curr_date += dt.timedelta(days=1)\n",
    "    \n",
    "blank_df = blank_df.set_index(['sd', 'sp'])"
   ]
  },
  {
   "cell_type": "code",
   "execution_count": 4,
   "metadata": {},
   "outputs": [],
   "source": [
    "P114_df = pd.read_csv('/home/graeme/Downloads/C0421_scotland_df.csv')"
   ]
  },
  {
   "cell_type": "code",
   "execution_count": 5,
   "metadata": {},
   "outputs": [],
   "source": [
    "bmus = pd.read_csv('/home/graeme/ElexonDataManager/Physical/unit_data/reg_bm_units.csv')"
   ]
  },
  {
   "cell_type": "code",
   "execution_count": 6,
   "metadata": {},
   "outputs": [
    {
     "name": "stderr",
     "output_type": "stream",
     "text": [
      "/home/graeme/anaconda3/lib/python3.7/site-packages/ipykernel_launcher.py:2: UserWarning: Boolean Series key will be reindexed to match DataFrame index.\n",
      "  \n"
     ]
    }
   ],
   "source": [
    "gsp_groups = ['SCOTLAND', 'NORTH of SCOTLAND GSP', 'SOUTH of SCOTLAND GSP']\n",
    "bmu_ids = list(bmus[bmus['GSP Group Name'].isin(gsp_groups)][~bmus['BM Unit ID'].str.contains('__')]['BM Unit ID'])\n",
    "for bmu_id in bmu_ids:\n",
    "    blank_df[bmu_id] = np.nan"
   ]
  },
  {
   "cell_type": "code",
   "execution_count": 7,
   "metadata": {},
   "outputs": [],
   "source": [
    "conn = psycopg2.connect(\"dbname='ElexonData' user={} host={} password={}\".format(DATABASES['default']['USER'],\n",
    "                                                                                DATABASES['default']['HOST'],\n",
    "                                                                                DATABASES['default']['PASSWORD']))\n",
    "cur = conn.cursor()"
   ]
  },
  {
   "cell_type": "code",
   "execution_count": 8,
   "metadata": {},
   "outputs": [],
   "source": [
    "combined_BAVs = blank_df.copy()\n",
    "\n",
    "bav_query = 'SELECT sd, sp, sum(bmra_boav.bv) \\\n",
    "FROM public.bmra_boav \\\n",
    "where bmra_boav.bmu_id=\\'%s\\' \\\n",
    "group by sd, sp \\\n",
    "order by sd, sp'\n",
    "\n",
    "for bmu_id in bmu_ids:\n",
    "    sql_df = pd.read_sql(bav_query % bmu_id, conn)\n",
    "    sql_df = sql_df.set_index(['sd', 'sp'])\n",
    "    combined_BAVs[bmu_id] = sql_df\n",
    "\n",
    "#combined_BAVs.to_csv('~/scotgov_analysis_190718/BAVs.csv')"
   ]
  },
  {
   "cell_type": "code",
   "execution_count": 25,
   "metadata": {},
   "outputs": [],
   "source": [
    "combined_OAVs = blank_df.copy()\n",
    "\n",
    "oav_query = 'SELECT sd, sp, sum(bmra_boav.ov) \\\n",
    "FROM public.bmra_boav \\\n",
    "where bmra_boav.bmu_id=\\'%s\\' \\\n",
    "group by sd, sp \\\n",
    "order by sd, sp'\n",
    "\n",
    "for bmu_id in bmu_ids:\n",
    "    sql_df = pd.read_sql(oav_query % bmu_id, conn)\n",
    "    sql_df = sql_df.set_index(['sd', 'sp'])\n",
    "    combined_OAVs[bmu_id] = sql_df\n",
    "\n",
    "combined_OAVs.to_csv('~/scotgov_analysis_190718/OAVs.csv')"
   ]
  },
  {
   "cell_type": "code",
   "execution_count": 13,
   "metadata": {},
   "outputs": [
    {
     "name": "stdout",
     "output_type": "stream",
     "text": [
      "E_ABRTW-1\n",
      "E_AIRSW-1\n",
      "E_ASHWW-1\n",
      "E_ASLVW-1\n",
      "E_BABAW-1\n",
      "E_BETHW-1\n",
      "E_BNWKW-1\n",
      "E_BRDUW-1\n",
      "E_BRNLW-1\n",
      "E_BROXES-1\n",
      "E_BRYBW-1\n",
      "E_BTUIW-2\n",
      "E_CLAC-1\n",
      "E_CLDRW-1\n",
      "E_CLFLW-1\n",
      "E_CNCLW-1\n",
      "E_CRGTW-1\n",
      "E_DALSW-1\n",
      "E_FASN-3\n",
      "E_FASN-4\n",
      "E_GDSTW-1\n",
      "E_GLCHW-1\n",
      "E_GLNDOD1\n",
      "E_GLOFW-1\n",
      "E_HBHDW-1\n",
      "E_HLGLW-1\n",
      "E_HLTWW-1\n",
      "E_HRHLW-1\n",
      "E_HUNB-11S\n",
      "E_HYWDW-1\n",
      "E_KINCW-1\n",
      "E_MARK-1\n",
      "E_MINSW-1\n",
      "E_MOYEW-1\n",
      "E_TLYMW-1\n",
      "E_TULWW-1\n",
      "E_TULWW-2\n",
      "M_CAS-BEU01\n",
      "M_CAS-CLU01\n",
      "M_CAS-CON01\n",
      "M_CAS-GAR01\n",
      "M_CAS-KIL01\n",
      "M_CAS-MOR01\n",
      "M_SLOY-1\n",
      "M_SLOY-4\n",
      "T_ABRBO-1\n",
      "T_ACHRW-1\n",
      "T_AFTOW-1\n",
      "T_ANSUW-1\n",
      "T_ARCHW-1\n",
      "T_BDCHW-1\n",
      "T_BEATD-1\n",
      "T_BEATO-1\n",
      "T_BEATO-2\n",
      "T_BEATO-3\n",
      "T_BEATO-4\n",
      "T_BEINW-1\n",
      "T_BHLAW-1\n",
      "T_BLKWW-1\n",
      "T_BLLA-1\n",
      "T_BLLA-2\n",
      "T_BPGRD-1\n",
      "T_BPGRD-2\n",
      "T_CGTHW-1\n",
      "T_CLACD-1\n",
      "T_CLDCW-1\n",
      "T_CLDNW-1\n",
      "T_CLDSW-1\n",
      "T_COCK-1\n",
      "T_COCK-2\n",
      "T_COCK-3\n",
      "T_COCK-4\n",
      "T_COCKD-1\n",
      "T_COUWW-1\n",
      "T_CRGHD-1\n",
      "T_CRGHW-1\n",
      "T_CRMLD-1\n",
      "T_CRMLW-1\n",
      "T_CRUA-1\n",
      "T_CRUA-2\n",
      "T_CRUA-3\n",
      "T_CRUA-4\n",
      "T_CRUAD-1\n",
      "T_CRYRD-2\n",
      "T_CRYRW-2\n",
      "T_CRYRW-3\n",
      "T_DEAND-1\n",
      "T_DNLWW-1\n",
      "T_DOREW-1\n",
      "T_DOREW-2\n",
      "T_DRSLW-1\n",
      "T_DUNGW-1\n",
      "T_EDINW-1\n",
      "T_ERRO-1\n",
      "T_ERRO-2\n",
      "T_ERRO-3\n",
      "T_EWHLW-1\n",
      "T_FALGD-1\n",
      "T_FALGW-1\n",
      "T_FARR-1\n",
      "T_FARR-2\n",
      "T_FASN-1\n",
      "T_FASN-2\n",
      "T_FINL-1\n",
      "T_FOYE-1\n",
      "T_FOYE-2\n",
      "T_FOYED-1\n",
      "T_FSDLW-1\n",
      "T_GLEND-1\n",
      "T_GLNDO-1\n",
      "T_GLNDOD1\n",
      "T_GLWSW-1\n",
      "T_GNAPW-1\n",
      "T_GORDD-1\n",
      "T_GORDW-1\n",
      "T_GRIFW-1\n",
      "T_GRIFW-2\n",
      "T_GRIFWD-1\n",
      "T_GRMO-1\n",
      "T_HADHW-1\n",
      "T_HRSTW-1\n",
      "T_HUNB-7\n",
      "T_HUNB-8\n",
      "T_HUNB-D\n",
      "T_INGAD-1\n",
      "T_KILBWD-1\n",
      "T_KLGLW-1\n",
      "T_KPMRW-1\n",
      "T_KTHLW-1\n",
      "T_LCLTW-1\n",
      "T_LOAN-1\n",
      "T_LOAN-2\n",
      "T_LOAN-3\n",
      "T_LOAN-4\n",
      "T_LOAND-1\n",
      "T_LOAND-2\n",
      "T_LUICD-1\n",
      "T_MEADD-1\n",
      "T_MIDMW-1\n",
      "T_MILWW-1\n",
      "T_MILWWD-1\n",
      "T_MKHLW-1\n",
      "T_MYGPW-1\n",
      "T_NANT-1\n",
      "T_PEHE-1\n",
      "T_PEHE-2\n",
      "T_PEHED-1\n",
      "T_PGBIW-1\n",
      "T_SANQD-1\n",
      "T_SANQW-1\n",
      "T_SFGSD-1\n",
      "T_SFGSD-2\n",
      "T_SFILD-1\n",
      "T_SLOY-2\n",
      "T_SLOY-3\n",
      "T_SLOYD-1\n",
      "T_STFERGD-1\n",
      "T_STLGW-1\n",
      "T_STLGW-2\n",
      "T_STLGW-3\n",
      "T_STRNW-1\n",
      "T_TORN-1\n",
      "T_TORN-2\n",
      "T_TORN-D\n",
      "T_WHILW-1\n",
      "T_WHILW-2\n"
     ]
    }
   ],
   "source": [
    "combined_FPNs = blank_df.copy()\n",
    "\n",
    "query = 'SELECT sd, sp, bmra_fpnlevel.ts, vp \\\n",
    "FROM public.bmra_fpnlevel \\\n",
    "left join public.bmra_fpn \\\n",
    "on bmra_fpnlevel.fpn_id = bmra_fpn.id \\\n",
    "where bmra_fpn.bmu_id=\\'%s\\' \\\n",
    "order by sd, sp, bmra_fpnlevel.ts'\n",
    "\n",
    "for bmu_id in bmu_ids:\n",
    "    bmu_fpns = []\n",
    "    print(bmu_id)\n",
    "    df = pd.read_sql(query % bmu_id, conn)\n",
    "    prev_SD, prev_SP, prev_VP, prev_TS = None, None, None, None\n",
    "    total_mwh = 0.0\n",
    "    for key, values in df.iterrows():\n",
    "        SD, SP, TS, VP = values['sd'], values['sp'], values['ts'], values['vp']\n",
    "        if SD==prev_SD and SP==prev_SP: \n",
    "            time_diff = (TS - prev_TS).total_seconds() / 3600.0\n",
    "            total_mwh += (prev_VP * time_diff + (0.5 * (VP - prev_VP) * time_diff))\n",
    "        elif prev_SD is not None and prev_SP is not None:\n",
    "            bmu_fpns.append([dt.date(prev_SD.year,prev_SD.month,prev_SD.day),prev_SP,total_mwh])\n",
    "            total_mwh = 0.0\n",
    "        prev_SD, prev_SP, prev_VP, prev_TS = SD, SP, VP, TS\n",
    "    new_data = pd.DataFrame(bmu_fpns, columns=['sd', 'sp', bmu_id])\n",
    "    new_data = new_data.set_index(['sd', 'sp'])\n",
    "    combined_FPNs.update(new_data)\n",
    "    \n",
    "combined_FPNs.to_csv('~/scotgov_analysis_190718/FPNs.csv')"
   ]
  },
  {
   "cell_type": "code",
   "execution_count": 16,
   "metadata": {},
   "outputs": [
    {
     "data": {
      "text/html": [
       "<div>\n",
       "<style scoped>\n",
       "    .dataframe tbody tr th:only-of-type {\n",
       "        vertical-align: middle;\n",
       "    }\n",
       "\n",
       "    .dataframe tbody tr th {\n",
       "        vertical-align: top;\n",
       "    }\n",
       "\n",
       "    .dataframe thead th {\n",
       "        text-align: right;\n",
       "    }\n",
       "</style>\n",
       "<table border=\"1\" class=\"dataframe\">\n",
       "  <thead>\n",
       "    <tr style=\"text-align: right;\">\n",
       "      <th></th>\n",
       "      <th></th>\n",
       "      <th>E_ABRTW-1</th>\n",
       "      <th>E_AIRSW-1</th>\n",
       "      <th>E_ASHWW-1</th>\n",
       "      <th>E_ASLVW-1</th>\n",
       "      <th>E_BABAW-1</th>\n",
       "      <th>E_BETHW-1</th>\n",
       "      <th>E_BNWKW-1</th>\n",
       "      <th>E_BRDUW-1</th>\n",
       "      <th>E_BRNLW-1</th>\n",
       "      <th>E_BROXES-1</th>\n",
       "      <th>...</th>\n",
       "      <th>T_STFERGD-1</th>\n",
       "      <th>T_STLGW-1</th>\n",
       "      <th>T_STLGW-2</th>\n",
       "      <th>T_STLGW-3</th>\n",
       "      <th>T_STRNW-1</th>\n",
       "      <th>T_TORN-1</th>\n",
       "      <th>T_TORN-2</th>\n",
       "      <th>T_TORN-D</th>\n",
       "      <th>T_WHILW-1</th>\n",
       "      <th>T_WHILW-2</th>\n",
       "    </tr>\n",
       "    <tr>\n",
       "      <th>sd</th>\n",
       "      <th>sp</th>\n",
       "      <th></th>\n",
       "      <th></th>\n",
       "      <th></th>\n",
       "      <th></th>\n",
       "      <th></th>\n",
       "      <th></th>\n",
       "      <th></th>\n",
       "      <th></th>\n",
       "      <th></th>\n",
       "      <th></th>\n",
       "      <th></th>\n",
       "      <th></th>\n",
       "      <th></th>\n",
       "      <th></th>\n",
       "      <th></th>\n",
       "      <th></th>\n",
       "      <th></th>\n",
       "      <th></th>\n",
       "      <th></th>\n",
       "      <th></th>\n",
       "      <th></th>\n",
       "    </tr>\n",
       "  </thead>\n",
       "  <tbody>\n",
       "  </tbody>\n",
       "</table>\n",
       "<p>0 rows × 166 columns</p>\n",
       "</div>"
      ],
      "text/plain": [
       "Empty DataFrame\n",
       "Columns: [E_ABRTW-1, E_AIRSW-1, E_ASHWW-1, E_ASLVW-1, E_BABAW-1, E_BETHW-1, E_BNWKW-1, E_BRDUW-1, E_BRNLW-1, E_BROXES-1, E_BRYBW-1, E_BTUIW-2, E_CLAC-1, E_CLDRW-1, E_CLFLW-1, E_CNCLW-1, E_CRGTW-1, E_DALSW-1, E_FASN-3, E_FASN-4, E_GDSTW-1, E_GLCHW-1, E_GLNDOD1, E_GLOFW-1, E_HBHDW-1, E_HLGLW-1, E_HLTWW-1, E_HRHLW-1, E_HUNB-11S, E_HYWDW-1, E_KINCW-1, E_MARK-1, E_MINSW-1, E_MOYEW-1, E_TLYMW-1, E_TULWW-1, E_TULWW-2, M_CAS-BEU01, M_CAS-CLU01, M_CAS-CON01, M_CAS-GAR01, M_CAS-KIL01, M_CAS-MOR01, M_SLOY-1, M_SLOY-4, T_ABRBO-1, T_ACHRW-1, T_AFTOW-1, T_ANSUW-1, T_ARCHW-1, T_BDCHW-1, T_BEATD-1, T_BEATO-1, T_BEATO-2, T_BEATO-3, T_BEATO-4, T_BEINW-1, T_BHLAW-1, T_BLKWW-1, T_BLLA-1, T_BLLA-2, T_BPGRD-1, T_BPGRD-2, T_CGTHW-1, T_CLACD-1, T_CLDCW-1, T_CLDNW-1, T_CLDSW-1, T_COCK-1, T_COCK-2, T_COCK-3, T_COCK-4, T_COCKD-1, T_COUWW-1, T_CRGHD-1, T_CRGHW-1, T_CRMLD-1, T_CRMLW-1, T_CRUA-1, T_CRUA-2, T_CRUA-3, T_CRUA-4, T_CRUAD-1, T_CRYRD-2, T_CRYRW-2, T_CRYRW-3, T_DEAND-1, T_DNLWW-1, T_DOREW-1, T_DOREW-2, T_DRSLW-1, T_DUNGW-1, T_EDINW-1, T_ERRO-1, T_ERRO-2, T_ERRO-3, T_EWHLW-1, T_FALGD-1, T_FALGW-1, T_FARR-1, ...]\n",
       "Index: []\n",
       "\n",
       "[0 rows x 166 columns]"
      ]
     },
     "execution_count": 16,
     "metadata": {},
     "output_type": "execute_result"
    }
   ],
   "source": [
    "combined_FPNs[combined_FPNs.sum(axis=1) == 0]"
   ]
  },
  {
   "cell_type": "code",
   "execution_count": 28,
   "metadata": {},
   "outputs": [
    {
     "data": {
      "application/vnd.jupyter.widget-view+json": {
       "model_id": "b13f8c489d0d436e9d5c27c5b931572b",
       "version_major": 2,
       "version_minor": 0
      },
      "text/plain": [
       "HBox(children=(IntProgress(value=0, description='total', max=10, style=ProgressStyle(description_width='initia…"
      ]
     },
     "metadata": {},
     "output_type": "display_data"
    },
    {
     "data": {
      "application/vnd.jupyter.widget-view+json": {
       "model_id": "1dfe2ffcd9b5489e8c051123d5b15c5f",
       "version_major": 2,
       "version_minor": 0
      },
      "text/plain": [
       "HBox(children=(IntProgress(value=0, description='E_ABRTW-1', max=84698, style=ProgressStyle(description_width=…"
      ]
     },
     "metadata": {},
     "output_type": "display_data"
    },
    {
     "data": {
      "application/vnd.jupyter.widget-view+json": {
       "model_id": "8d054aee25914cdcbf7f036b00b14222",
       "version_major": 2,
       "version_minor": 0
      },
      "text/plain": [
       "HBox(children=(IntProgress(value=0, description='E_AIRSW-1', max=83832, style=ProgressStyle(description_width=…"
      ]
     },
     "metadata": {},
     "output_type": "display_data"
    },
    {
     "data": {
      "application/vnd.jupyter.widget-view+json": {
       "model_id": "2227d6b9513e4e85a3b5c4b00fedbe29",
       "version_major": 2,
       "version_minor": 0
      },
      "text/plain": [
       "HBox(children=(IntProgress(value=0, description='E_ASHWW-1', max=95124, style=ProgressStyle(description_width=…"
      ]
     },
     "metadata": {},
     "output_type": "display_data"
    },
    {
     "data": {
      "application/vnd.jupyter.widget-view+json": {
       "model_id": "aadb2e4332a44d00b26da93a450a0d6a",
       "version_major": 2,
       "version_minor": 0
      },
      "text/plain": [
       "HBox(children=(IntProgress(value=0, description='E_ASLVW-1', max=104224, style=ProgressStyle(description_width…"
      ]
     },
     "metadata": {},
     "output_type": "display_data"
    },
    {
     "data": {
      "application/vnd.jupyter.widget-view+json": {
       "model_id": "b5cdde63438844dea3dfa6b861af8c63",
       "version_major": 2,
       "version_minor": 0
      },
      "text/plain": [
       "HBox(children=(IntProgress(value=0, description='E_BABAW-1', max=160548, style=ProgressStyle(description_width…"
      ]
     },
     "metadata": {},
     "output_type": "display_data"
    },
    {
     "data": {
      "application/vnd.jupyter.widget-view+json": {
       "model_id": "2b8f7f012ea641a28e30d44ed2d77f17",
       "version_major": 2,
       "version_minor": 0
      },
      "text/plain": [
       "HBox(children=(IntProgress(value=0, description='E_BETHW-1', max=161996, style=ProgressStyle(description_width…"
      ]
     },
     "metadata": {},
     "output_type": "display_data"
    },
    {
     "data": {
      "application/vnd.jupyter.widget-view+json": {
       "model_id": "8abc67f6c45f42a994d10ad000607c60",
       "version_major": 2,
       "version_minor": 0
      },
      "text/plain": [
       "HBox(children=(IntProgress(value=0, description='E_BNWKW-1', max=81628, style=ProgressStyle(description_width=…"
      ]
     },
     "metadata": {},
     "output_type": "display_data"
    },
    {
     "data": {
      "application/vnd.jupyter.widget-view+json": {
       "model_id": "4644eb0c99c64075ba7a0158110fe04b",
       "version_major": 2,
       "version_minor": 0
      },
      "text/plain": [
       "HBox(children=(IntProgress(value=0, description='E_BRDUW-1', max=159782, style=ProgressStyle(description_width…"
      ]
     },
     "metadata": {},
     "output_type": "display_data"
    },
    {
     "data": {
      "application/vnd.jupyter.widget-view+json": {
       "model_id": "6573660b7f9a4d818aa2cd2c2a319d6c",
       "version_major": 2,
       "version_minor": 0
      },
      "text/plain": [
       "HBox(children=(IntProgress(value=0, description='E_BRNLW-1', max=80311, style=ProgressStyle(description_width=…"
      ]
     },
     "metadata": {},
     "output_type": "display_data"
    },
    {
     "data": {
      "application/vnd.jupyter.widget-view+json": {
       "model_id": "d8ccaa5c819f4a6d8c4063576798c93e",
       "version_major": 2,
       "version_minor": 0
      },
      "text/plain": [
       "HBox(children=(IntProgress(value=1, bar_style='info', description='E_BROXES-1', max=1, style=ProgressStyle(des…"
      ]
     },
     "metadata": {},
     "output_type": "display_data"
    }
   ],
   "source": [
    "combined_MELs = blank_df.copy()\n",
    "\n",
    "query = 'SELECT bmra_mel.ts as tsr, sd, sp, bmra_mellevel.ts, ve \\\n",
    "FROM public.bmra_mellevel \\\n",
    "left join public.bmra_mel \\\n",
    "on bmra_mellevel.mel_id = bmra_mel.id \\\n",
    "where bmra_mel.bmu_id=\\'%s\\' \\\n",
    "order by sd, sp, bmra_mel.ts desc, bmra_mellevel.ts'\n",
    "\n",
    "for bmu_id in tqdm_notebook(bmu_ids[:10], desc='total'):\n",
    "    bmu_mels = []\n",
    "    #print(bmu_id)\n",
    "    df = pd.read_sql(query % bmu_id, conn)\n",
    "    prev_SD, prev_SP, prev_VP, prev_TS, prev_TSR, last_msg_time = None, None, None, None, None, None\n",
    "    total_mwh, total_time = 0.0, 0.0\n",
    "    for key, values in tqdm_notebook(df.iterrows(), total=df.shape[0], desc=bmu_id):\n",
    "        SD, SP, TS, VP, TSR = values['sd'], values['sp'], values['ts'], values['ve'], values['tsr']\n",
    "        if SD==prev_SD and SP==prev_SP: \n",
    "            if TSR==last_msg_time: \n",
    "                time_diff = (TS - prev_TS).total_seconds() / 3600.0\n",
    "                total_mwh += (prev_VP * time_diff + (0.5 * (VP - prev_VP) * time_diff))\n",
    "                total_time += time_diff\n",
    "        elif prev_SD is not None and prev_SP is not None:\n",
    "            bmu_mels.append([dt.date(prev_SD.year,prev_SD.month,prev_SD.day),prev_SP,total_mwh])\n",
    "            #if not math.isclose(0.5, total_time, rel_tol=1e-5):\n",
    "            #    print(prev_SD, prev_SP)\n",
    "            #    print('total time duration: {:+06.2f}'.format(total_time))\n",
    "            total_mwh, total_time = 0.0, 0.0\n",
    "            last_msg_time = values['tsr']\n",
    "        prev_SD, prev_SP, prev_VP, prev_TS = SD, SP, VP, TS\n",
    "    new_data = pd.DataFrame(bmu_mels, columns=['sd', 'sp', bmu_id])\n",
    "    new_data = new_data.set_index(['sd', 'sp'])\n",
    "    combined_MELs.update(new_data)\n",
    "    \n",
    "\n",
    "#combined_MELs.to_csv('~/scotgov_analysis_190718/MELs.csv')"
   ]
  },
  {
   "cell_type": "code",
   "execution_count": 18,
   "metadata": {},
   "outputs": [
    {
     "data": {
      "text/html": [
       "<div>\n",
       "<style scoped>\n",
       "    .dataframe tbody tr th:only-of-type {\n",
       "        vertical-align: middle;\n",
       "    }\n",
       "\n",
       "    .dataframe tbody tr th {\n",
       "        vertical-align: top;\n",
       "    }\n",
       "\n",
       "    .dataframe thead th {\n",
       "        text-align: right;\n",
       "    }\n",
       "</style>\n",
       "<table border=\"1\" class=\"dataframe\">\n",
       "  <thead>\n",
       "    <tr style=\"text-align: right;\">\n",
       "      <th></th>\n",
       "      <th></th>\n",
       "      <th>E_ABRTW-1</th>\n",
       "      <th>E_AIRSW-1</th>\n",
       "      <th>E_ASHWW-1</th>\n",
       "      <th>E_ASLVW-1</th>\n",
       "      <th>E_BABAW-1</th>\n",
       "      <th>E_BETHW-1</th>\n",
       "      <th>E_BNWKW-1</th>\n",
       "      <th>E_BRDUW-1</th>\n",
       "      <th>E_BRNLW-1</th>\n",
       "      <th>E_BROXES-1</th>\n",
       "      <th>...</th>\n",
       "      <th>T_STFERGD-1</th>\n",
       "      <th>T_STLGW-1</th>\n",
       "      <th>T_STLGW-2</th>\n",
       "      <th>T_STLGW-3</th>\n",
       "      <th>T_STRNW-1</th>\n",
       "      <th>T_TORN-1</th>\n",
       "      <th>T_TORN-2</th>\n",
       "      <th>T_TORN-D</th>\n",
       "      <th>T_WHILW-1</th>\n",
       "      <th>T_WHILW-2</th>\n",
       "    </tr>\n",
       "    <tr>\n",
       "      <th>sd</th>\n",
       "      <th>sp</th>\n",
       "      <th></th>\n",
       "      <th></th>\n",
       "      <th></th>\n",
       "      <th></th>\n",
       "      <th></th>\n",
       "      <th></th>\n",
       "      <th></th>\n",
       "      <th></th>\n",
       "      <th></th>\n",
       "      <th></th>\n",
       "      <th></th>\n",
       "      <th></th>\n",
       "      <th></th>\n",
       "      <th></th>\n",
       "      <th></th>\n",
       "      <th></th>\n",
       "      <th></th>\n",
       "      <th></th>\n",
       "      <th></th>\n",
       "      <th></th>\n",
       "      <th></th>\n",
       "    </tr>\n",
       "  </thead>\n",
       "  <tbody>\n",
       "  </tbody>\n",
       "</table>\n",
       "<p>0 rows × 166 columns</p>\n",
       "</div>"
      ],
      "text/plain": [
       "Empty DataFrame\n",
       "Columns: [E_ABRTW-1, E_AIRSW-1, E_ASHWW-1, E_ASLVW-1, E_BABAW-1, E_BETHW-1, E_BNWKW-1, E_BRDUW-1, E_BRNLW-1, E_BROXES-1, E_BRYBW-1, E_BTUIW-2, E_CLAC-1, E_CLDRW-1, E_CLFLW-1, E_CNCLW-1, E_CRGTW-1, E_DALSW-1, E_FASN-3, E_FASN-4, E_GDSTW-1, E_GLCHW-1, E_GLNDOD1, E_GLOFW-1, E_HBHDW-1, E_HLGLW-1, E_HLTWW-1, E_HRHLW-1, E_HUNB-11S, E_HYWDW-1, E_KINCW-1, E_MARK-1, E_MINSW-1, E_MOYEW-1, E_TLYMW-1, E_TULWW-1, E_TULWW-2, M_CAS-BEU01, M_CAS-CLU01, M_CAS-CON01, M_CAS-GAR01, M_CAS-KIL01, M_CAS-MOR01, M_SLOY-1, M_SLOY-4, T_ABRBO-1, T_ACHRW-1, T_AFTOW-1, T_ANSUW-1, T_ARCHW-1, T_BDCHW-1, T_BEATD-1, T_BEATO-1, T_BEATO-2, T_BEATO-3, T_BEATO-4, T_BEINW-1, T_BHLAW-1, T_BLKWW-1, T_BLLA-1, T_BLLA-2, T_BPGRD-1, T_BPGRD-2, T_CGTHW-1, T_CLACD-1, T_CLDCW-1, T_CLDNW-1, T_CLDSW-1, T_COCK-1, T_COCK-2, T_COCK-3, T_COCK-4, T_COCKD-1, T_COUWW-1, T_CRGHD-1, T_CRGHW-1, T_CRMLD-1, T_CRMLW-1, T_CRUA-1, T_CRUA-2, T_CRUA-3, T_CRUA-4, T_CRUAD-1, T_CRYRD-2, T_CRYRW-2, T_CRYRW-3, T_DEAND-1, T_DNLWW-1, T_DOREW-1, T_DOREW-2, T_DRSLW-1, T_DUNGW-1, T_EDINW-1, T_ERRO-1, T_ERRO-2, T_ERRO-3, T_EWHLW-1, T_FALGD-1, T_FALGW-1, T_FARR-1, ...]\n",
       "Index: []\n",
       "\n",
       "[0 rows x 166 columns]"
      ]
     },
     "execution_count": 18,
     "metadata": {},
     "output_type": "execute_result"
    }
   ],
   "source": [
    "combined_MELs[combined_MELs.sum(axis=1) == 0]"
   ]
  },
  {
   "cell_type": "code",
   "execution_count": null,
   "metadata": {},
   "outputs": [],
   "source": [
    "# search BOAV data to figure out what's happening with Peterhead values\n",
    "filenames = df.get_tibco_daily_filenames(dt.date(2017,3,20), dt.date(2017,3,20))\n",
    "\n",
    "for filename in filenames:\n",
    "    file = gzip.open('/home/graeme/ElexonData/Unprocessed/' + filename, 'rb')\n",
    "    file_content = file.read().decode('utf-8', 'ignore')\n",
    "    file_rows = [entry for entry in file_content.split('}')]\n",
    "    count = 0\n",
    "    for message in file_rows:\n",
    "        if len(message.strip()) > 0:\n",
    "            message_dict = uf.message_to_dict(message+'}')\n",
    "            if message_dict['message_subtype'] == 'BOAV':\n",
    "                if message_dict['bmu_id'] in ['T_PEHE-1'] and message_dict['SP']==17:\n",
    "                    print(message_dict)      \n",
    "            count += 1\n",
    "    file.close()"
   ]
  },
  {
   "cell_type": "code",
   "execution_count": 31,
   "metadata": {},
   "outputs": [],
   "source": [
    "# calculate cashflow by settlement period\n",
    "combined_cashflows = blank_df.copy()\n",
    "\n",
    "cashflows_query = 'SELECT sd, sp, sum(oc)-sum(bc) as cashflow \\\n",
    "FROM public.bmra_ebocf \\\n",
    "where bmu_id=\\'%s\\' \\\n",
    "group by sd, sp \\\n",
    "order by sd, sp;'\n",
    "\n",
    "for bmu_id in bmu_ids:\n",
    "    sql_df = pd.read_sql(cashflows_query % (bmu_id), conn)\n",
    "    sql_df = sql_df.set_index(['sd', 'sp'])\n",
    "    sql_df.rename(columns={'cashflow': bmu_id}, inplace=True)\n",
    "    combined_cashflows.update(sql_df)\n",
    "\n",
    "combined_cashflows.to_csv('~/scotgov_analysis_190718/cashflows.csv')"
   ]
  },
  {
   "cell_type": "code",
   "execution_count": 54,
   "metadata": {},
   "outputs": [
    {
     "ename": "ValueError",
     "evalue": "Tz-aware datetime.datetime cannot be converted to datetime64 unless utc=True",
     "output_type": "error",
     "traceback": [
      "\u001b[0;31m---------------------------------------------------------------------------\u001b[0m",
      "\u001b[0;31mValueError\u001b[0m                                Traceback (most recent call last)",
      "\u001b[0;32m~/anaconda3/lib/python3.7/site-packages/pandas/core/arrays/datetimes.py\u001b[0m in \u001b[0;36mobjects_to_datetime64ns\u001b[0;34m(data, dayfirst, yearfirst, utc, errors, require_iso8601, allow_object)\u001b[0m\n\u001b[1;32m   1860\u001b[0m         \u001b[0;32mtry\u001b[0m\u001b[0;34m:\u001b[0m\u001b[0;34m\u001b[0m\u001b[0;34m\u001b[0m\u001b[0m\n\u001b[0;32m-> 1861\u001b[0;31m             \u001b[0mvalues\u001b[0m\u001b[0;34m,\u001b[0m \u001b[0mtz_parsed\u001b[0m \u001b[0;34m=\u001b[0m \u001b[0mconversion\u001b[0m\u001b[0;34m.\u001b[0m\u001b[0mdatetime_to_datetime64\u001b[0m\u001b[0;34m(\u001b[0m\u001b[0mdata\u001b[0m\u001b[0;34m)\u001b[0m\u001b[0;34m\u001b[0m\u001b[0;34m\u001b[0m\u001b[0m\n\u001b[0m\u001b[1;32m   1862\u001b[0m             \u001b[0;31m# If tzaware, these values represent unix timestamps, so we\u001b[0m\u001b[0;34m\u001b[0m\u001b[0;34m\u001b[0m\u001b[0;34m\u001b[0m\u001b[0m\n",
      "\u001b[0;32mpandas/_libs/tslibs/conversion.pyx\u001b[0m in \u001b[0;36mpandas._libs.tslibs.conversion.datetime_to_datetime64\u001b[0;34m()\u001b[0m\n",
      "\u001b[0;31mValueError\u001b[0m: Array must be all same time zone",
      "\nDuring handling of the above exception, another exception occurred:\n",
      "\u001b[0;31mValueError\u001b[0m                                Traceback (most recent call last)",
      "\u001b[0;32m<ipython-input-54-50a8efc1cdf3>\u001b[0m in \u001b[0;36m<module>\u001b[0;34m\u001b[0m\n\u001b[1;32m     11\u001b[0m     \u001b[0msql_df\u001b[0m \u001b[0;34m=\u001b[0m \u001b[0mpd\u001b[0m\u001b[0;34m.\u001b[0m\u001b[0mread_sql\u001b[0m\u001b[0;34m(\u001b[0m\u001b[0mtrans_query\u001b[0m \u001b[0;34m%\u001b[0m \u001b[0;34m(\u001b[0m\u001b[0mbmu_id\u001b[0m\u001b[0;34m)\u001b[0m\u001b[0;34m,\u001b[0m \u001b[0mconn\u001b[0m\u001b[0;34m)\u001b[0m\u001b[0;34m\u001b[0m\u001b[0;34m\u001b[0m\u001b[0m\n\u001b[1;32m     12\u001b[0m     \u001b[0mnew_data\u001b[0m \u001b[0;34m=\u001b[0m \u001b[0;32mNone\u001b[0m\u001b[0;34m\u001b[0m\u001b[0;34m\u001b[0m\u001b[0m\n\u001b[0;32m---> 13\u001b[0;31m     \u001b[0;32mfor\u001b[0m \u001b[0mts\u001b[0m \u001b[0;32min\u001b[0m \u001b[0msql_df\u001b[0m\u001b[0;34m[\u001b[0m\u001b[0;34m'ts'\u001b[0m\u001b[0;34m]\u001b[0m\u001b[0;34m.\u001b[0m\u001b[0mdt\u001b[0m\u001b[0;34m.\u001b[0m\u001b[0mtz_localize\u001b[0m\u001b[0;34m(\u001b[0m\u001b[0mtz\u001b[0m\u001b[0;34m=\u001b[0m\u001b[0;34m'Europe/London'\u001b[0m\u001b[0;34m)\u001b[0m\u001b[0;34m.\u001b[0m\u001b[0mvalues\u001b[0m\u001b[0;34m:\u001b[0m\u001b[0;34m\u001b[0m\u001b[0;34m\u001b[0m\u001b[0m\n\u001b[0m\u001b[1;32m     14\u001b[0m         \u001b[0msd\u001b[0m\u001b[0;34m,\u001b[0m \u001b[0msp\u001b[0m \u001b[0;34m=\u001b[0m \u001b[0mdt_to_sp\u001b[0m\u001b[0;34m(\u001b[0m\u001b[0mpd\u001b[0m\u001b[0;34m.\u001b[0m\u001b[0mTimestamp\u001b[0m\u001b[0;34m(\u001b[0m\u001b[0mts\u001b[0m\u001b[0;34m)\u001b[0m\u001b[0;34m)\u001b[0m\u001b[0;34m\u001b[0m\u001b[0;34m\u001b[0m\u001b[0m\n\u001b[1;32m     15\u001b[0m         \u001b[0;32mif\u001b[0m \u001b[0mnew_data\u001b[0m \u001b[0;32mis\u001b[0m \u001b[0;32mNone\u001b[0m\u001b[0;34m:\u001b[0m\u001b[0;34m\u001b[0m\u001b[0;34m\u001b[0m\u001b[0m\n",
      "\u001b[0;32m~/anaconda3/lib/python3.7/site-packages/pandas/core/accessor.py\u001b[0m in \u001b[0;36mf\u001b[0;34m(self, *args, **kwargs)\u001b[0m\n\u001b[1;32m     89\u001b[0m \u001b[0;34m\u001b[0m\u001b[0m\n\u001b[1;32m     90\u001b[0m             \u001b[0;32mdef\u001b[0m \u001b[0mf\u001b[0m\u001b[0;34m(\u001b[0m\u001b[0mself\u001b[0m\u001b[0;34m,\u001b[0m \u001b[0;34m*\u001b[0m\u001b[0margs\u001b[0m\u001b[0;34m,\u001b[0m \u001b[0;34m**\u001b[0m\u001b[0mkwargs\u001b[0m\u001b[0;34m)\u001b[0m\u001b[0;34m:\u001b[0m\u001b[0;34m\u001b[0m\u001b[0;34m\u001b[0m\u001b[0m\n\u001b[0;32m---> 91\u001b[0;31m                 \u001b[0;32mreturn\u001b[0m \u001b[0mself\u001b[0m\u001b[0;34m.\u001b[0m\u001b[0m_delegate_method\u001b[0m\u001b[0;34m(\u001b[0m\u001b[0mname\u001b[0m\u001b[0;34m,\u001b[0m \u001b[0;34m*\u001b[0m\u001b[0margs\u001b[0m\u001b[0;34m,\u001b[0m \u001b[0;34m**\u001b[0m\u001b[0mkwargs\u001b[0m\u001b[0;34m)\u001b[0m\u001b[0;34m\u001b[0m\u001b[0;34m\u001b[0m\u001b[0m\n\u001b[0m\u001b[1;32m     92\u001b[0m \u001b[0;34m\u001b[0m\u001b[0m\n\u001b[1;32m     93\u001b[0m             \u001b[0mf\u001b[0m\u001b[0;34m.\u001b[0m\u001b[0m__name__\u001b[0m \u001b[0;34m=\u001b[0m \u001b[0mname\u001b[0m\u001b[0;34m\u001b[0m\u001b[0;34m\u001b[0m\u001b[0m\n",
      "\u001b[0;32m~/anaconda3/lib/python3.7/site-packages/pandas/core/indexes/accessors.py\u001b[0m in \u001b[0;36m_delegate_method\u001b[0;34m(self, name, *args, **kwargs)\u001b[0m\n\u001b[1;32m     89\u001b[0m     \u001b[0;32mdef\u001b[0m \u001b[0m_delegate_method\u001b[0m\u001b[0;34m(\u001b[0m\u001b[0mself\u001b[0m\u001b[0;34m,\u001b[0m \u001b[0mname\u001b[0m\u001b[0;34m,\u001b[0m \u001b[0;34m*\u001b[0m\u001b[0margs\u001b[0m\u001b[0;34m,\u001b[0m \u001b[0;34m**\u001b[0m\u001b[0mkwargs\u001b[0m\u001b[0;34m)\u001b[0m\u001b[0;34m:\u001b[0m\u001b[0;34m\u001b[0m\u001b[0;34m\u001b[0m\u001b[0m\n\u001b[1;32m     90\u001b[0m         \u001b[0;32mfrom\u001b[0m \u001b[0mpandas\u001b[0m \u001b[0;32mimport\u001b[0m \u001b[0mSeries\u001b[0m\u001b[0;34m\u001b[0m\u001b[0;34m\u001b[0m\u001b[0m\n\u001b[0;32m---> 91\u001b[0;31m         \u001b[0mvalues\u001b[0m \u001b[0;34m=\u001b[0m \u001b[0mself\u001b[0m\u001b[0;34m.\u001b[0m\u001b[0m_get_values\u001b[0m\u001b[0;34m(\u001b[0m\u001b[0;34m)\u001b[0m\u001b[0;34m\u001b[0m\u001b[0;34m\u001b[0m\u001b[0m\n\u001b[0m\u001b[1;32m     92\u001b[0m \u001b[0;34m\u001b[0m\u001b[0m\n\u001b[1;32m     93\u001b[0m         \u001b[0mmethod\u001b[0m \u001b[0;34m=\u001b[0m \u001b[0mgetattr\u001b[0m\u001b[0;34m(\u001b[0m\u001b[0mvalues\u001b[0m\u001b[0;34m,\u001b[0m \u001b[0mname\u001b[0m\u001b[0;34m)\u001b[0m\u001b[0;34m\u001b[0m\u001b[0;34m\u001b[0m\u001b[0m\n",
      "\u001b[0;32m~/anaconda3/lib/python3.7/site-packages/pandas/core/indexes/accessors.py\u001b[0m in \u001b[0;36m_get_values\u001b[0;34m(self)\u001b[0m\n\u001b[1;32m     46\u001b[0m                 \u001b[0;32mreturn\u001b[0m \u001b[0mPeriodArray\u001b[0m\u001b[0;34m(\u001b[0m\u001b[0mdata\u001b[0m\u001b[0;34m,\u001b[0m \u001b[0mcopy\u001b[0m\u001b[0;34m=\u001b[0m\u001b[0;32mFalse\u001b[0m\u001b[0;34m)\u001b[0m\u001b[0;34m\u001b[0m\u001b[0;34m\u001b[0m\u001b[0m\n\u001b[1;32m     47\u001b[0m             \u001b[0;32mif\u001b[0m \u001b[0mis_datetime_arraylike\u001b[0m\u001b[0;34m(\u001b[0m\u001b[0mdata\u001b[0m\u001b[0;34m)\u001b[0m\u001b[0;34m:\u001b[0m\u001b[0;34m\u001b[0m\u001b[0;34m\u001b[0m\u001b[0m\n\u001b[0;32m---> 48\u001b[0;31m                 \u001b[0;32mreturn\u001b[0m \u001b[0mDatetimeIndex\u001b[0m\u001b[0;34m(\u001b[0m\u001b[0mdata\u001b[0m\u001b[0;34m,\u001b[0m \u001b[0mcopy\u001b[0m\u001b[0;34m=\u001b[0m\u001b[0;32mFalse\u001b[0m\u001b[0;34m,\u001b[0m \u001b[0mname\u001b[0m\u001b[0;34m=\u001b[0m\u001b[0mself\u001b[0m\u001b[0;34m.\u001b[0m\u001b[0mname\u001b[0m\u001b[0;34m)\u001b[0m\u001b[0;34m\u001b[0m\u001b[0;34m\u001b[0m\u001b[0m\n\u001b[0m\u001b[1;32m     49\u001b[0m \u001b[0;34m\u001b[0m\u001b[0m\n\u001b[1;32m     50\u001b[0m         raise TypeError(\"cannot convert an object of type {0} to a \"\n",
      "\u001b[0;32m~/anaconda3/lib/python3.7/site-packages/pandas/core/indexes/datetimes.py\u001b[0m in \u001b[0;36m__new__\u001b[0;34m(cls, data, freq, start, end, periods, tz, normalize, closed, ambiguous, dayfirst, yearfirst, dtype, copy, name, verify_integrity)\u001b[0m\n\u001b[1;32m    301\u001b[0m             \u001b[0mdata\u001b[0m\u001b[0;34m,\u001b[0m \u001b[0mdtype\u001b[0m\u001b[0;34m=\u001b[0m\u001b[0mdtype\u001b[0m\u001b[0;34m,\u001b[0m \u001b[0mcopy\u001b[0m\u001b[0;34m=\u001b[0m\u001b[0mcopy\u001b[0m\u001b[0;34m,\u001b[0m \u001b[0mtz\u001b[0m\u001b[0;34m=\u001b[0m\u001b[0mtz\u001b[0m\u001b[0;34m,\u001b[0m \u001b[0mfreq\u001b[0m\u001b[0;34m=\u001b[0m\u001b[0mfreq\u001b[0m\u001b[0;34m,\u001b[0m\u001b[0;34m\u001b[0m\u001b[0;34m\u001b[0m\u001b[0m\n\u001b[1;32m    302\u001b[0m             \u001b[0mdayfirst\u001b[0m\u001b[0;34m=\u001b[0m\u001b[0mdayfirst\u001b[0m\u001b[0;34m,\u001b[0m \u001b[0myearfirst\u001b[0m\u001b[0;34m=\u001b[0m\u001b[0myearfirst\u001b[0m\u001b[0;34m,\u001b[0m \u001b[0mambiguous\u001b[0m\u001b[0;34m=\u001b[0m\u001b[0mambiguous\u001b[0m\u001b[0;34m,\u001b[0m\u001b[0;34m\u001b[0m\u001b[0;34m\u001b[0m\u001b[0m\n\u001b[0;32m--> 303\u001b[0;31m             int_as_wall_time=True)\n\u001b[0m\u001b[1;32m    304\u001b[0m \u001b[0;34m\u001b[0m\u001b[0m\n\u001b[1;32m    305\u001b[0m         subarr = cls._simple_new(dtarr, name=name,\n",
      "\u001b[0;32m~/anaconda3/lib/python3.7/site-packages/pandas/core/arrays/datetimes.py\u001b[0m in \u001b[0;36m_from_sequence\u001b[0;34m(cls, data, dtype, copy, tz, freq, dayfirst, yearfirst, ambiguous, int_as_wall_time)\u001b[0m\n\u001b[1;32m    374\u001b[0m             \u001b[0mdata\u001b[0m\u001b[0;34m,\u001b[0m \u001b[0mdtype\u001b[0m\u001b[0;34m=\u001b[0m\u001b[0mdtype\u001b[0m\u001b[0;34m,\u001b[0m \u001b[0mcopy\u001b[0m\u001b[0;34m=\u001b[0m\u001b[0mcopy\u001b[0m\u001b[0;34m,\u001b[0m \u001b[0mtz\u001b[0m\u001b[0;34m=\u001b[0m\u001b[0mtz\u001b[0m\u001b[0;34m,\u001b[0m\u001b[0;34m\u001b[0m\u001b[0;34m\u001b[0m\u001b[0m\n\u001b[1;32m    375\u001b[0m             \u001b[0mdayfirst\u001b[0m\u001b[0;34m=\u001b[0m\u001b[0mdayfirst\u001b[0m\u001b[0;34m,\u001b[0m \u001b[0myearfirst\u001b[0m\u001b[0;34m=\u001b[0m\u001b[0myearfirst\u001b[0m\u001b[0;34m,\u001b[0m\u001b[0;34m\u001b[0m\u001b[0;34m\u001b[0m\u001b[0m\n\u001b[0;32m--> 376\u001b[0;31m             ambiguous=ambiguous, int_as_wall_time=int_as_wall_time)\n\u001b[0m\u001b[1;32m    377\u001b[0m \u001b[0;34m\u001b[0m\u001b[0m\n\u001b[1;32m    378\u001b[0m         freq, freq_infer = dtl.validate_inferred_freq(freq, inferred_freq,\n",
      "\u001b[0;32m~/anaconda3/lib/python3.7/site-packages/pandas/core/arrays/datetimes.py\u001b[0m in \u001b[0;36msequence_to_dt64ns\u001b[0;34m(data, dtype, copy, tz, dayfirst, yearfirst, ambiguous, int_as_wall_time)\u001b[0m\n\u001b[1;32m   1755\u001b[0m             \u001b[0;31m#  or M8[ns] to denote wall times\u001b[0m\u001b[0;34m\u001b[0m\u001b[0;34m\u001b[0m\u001b[0;34m\u001b[0m\u001b[0m\n\u001b[1;32m   1756\u001b[0m             data, inferred_tz = objects_to_datetime64ns(\n\u001b[0;32m-> 1757\u001b[0;31m                 data, dayfirst=dayfirst, yearfirst=yearfirst)\n\u001b[0m\u001b[1;32m   1758\u001b[0m             \u001b[0mtz\u001b[0m \u001b[0;34m=\u001b[0m \u001b[0mmaybe_infer_tz\u001b[0m\u001b[0;34m(\u001b[0m\u001b[0mtz\u001b[0m\u001b[0;34m,\u001b[0m \u001b[0minferred_tz\u001b[0m\u001b[0;34m)\u001b[0m\u001b[0;34m\u001b[0m\u001b[0;34m\u001b[0m\u001b[0m\n\u001b[1;32m   1759\u001b[0m             \u001b[0;31m# When a sequence of timestamp objects is passed, we always\u001b[0m\u001b[0;34m\u001b[0m\u001b[0;34m\u001b[0m\u001b[0;34m\u001b[0m\u001b[0m\n",
      "\u001b[0;32m~/anaconda3/lib/python3.7/site-packages/pandas/core/arrays/datetimes.py\u001b[0m in \u001b[0;36mobjects_to_datetime64ns\u001b[0;34m(data, dayfirst, yearfirst, utc, errors, require_iso8601, allow_object)\u001b[0m\n\u001b[1;32m   1864\u001b[0m             \u001b[0;32mreturn\u001b[0m \u001b[0mvalues\u001b[0m\u001b[0;34m.\u001b[0m\u001b[0mview\u001b[0m\u001b[0;34m(\u001b[0m\u001b[0;34m'i8'\u001b[0m\u001b[0;34m)\u001b[0m\u001b[0;34m,\u001b[0m \u001b[0mtz_parsed\u001b[0m\u001b[0;34m\u001b[0m\u001b[0;34m\u001b[0m\u001b[0m\n\u001b[1;32m   1865\u001b[0m         \u001b[0;32mexcept\u001b[0m \u001b[0;34m(\u001b[0m\u001b[0mValueError\u001b[0m\u001b[0;34m,\u001b[0m \u001b[0mTypeError\u001b[0m\u001b[0;34m)\u001b[0m\u001b[0;34m:\u001b[0m\u001b[0;34m\u001b[0m\u001b[0;34m\u001b[0m\u001b[0m\n\u001b[0;32m-> 1866\u001b[0;31m             \u001b[0;32mraise\u001b[0m \u001b[0me\u001b[0m\u001b[0;34m\u001b[0m\u001b[0;34m\u001b[0m\u001b[0m\n\u001b[0m\u001b[1;32m   1867\u001b[0m \u001b[0;34m\u001b[0m\u001b[0m\n\u001b[1;32m   1868\u001b[0m     \u001b[0;32mif\u001b[0m \u001b[0mtz_parsed\u001b[0m \u001b[0;32mis\u001b[0m \u001b[0;32mnot\u001b[0m \u001b[0;32mNone\u001b[0m\u001b[0;34m:\u001b[0m\u001b[0;34m\u001b[0m\u001b[0;34m\u001b[0m\u001b[0m\n",
      "\u001b[0;32m~/anaconda3/lib/python3.7/site-packages/pandas/core/arrays/datetimes.py\u001b[0m in \u001b[0;36mobjects_to_datetime64ns\u001b[0;34m(data, dayfirst, yearfirst, utc, errors, require_iso8601, allow_object)\u001b[0m\n\u001b[1;32m   1855\u001b[0m             \u001b[0mdayfirst\u001b[0m\u001b[0;34m=\u001b[0m\u001b[0mdayfirst\u001b[0m\u001b[0;34m,\u001b[0m\u001b[0;34m\u001b[0m\u001b[0;34m\u001b[0m\u001b[0m\n\u001b[1;32m   1856\u001b[0m             \u001b[0myearfirst\u001b[0m\u001b[0;34m=\u001b[0m\u001b[0myearfirst\u001b[0m\u001b[0;34m,\u001b[0m\u001b[0;34m\u001b[0m\u001b[0;34m\u001b[0m\u001b[0m\n\u001b[0;32m-> 1857\u001b[0;31m             \u001b[0mrequire_iso8601\u001b[0m\u001b[0;34m=\u001b[0m\u001b[0mrequire_iso8601\u001b[0m\u001b[0;34m\u001b[0m\u001b[0;34m\u001b[0m\u001b[0m\n\u001b[0m\u001b[1;32m   1858\u001b[0m         )\n\u001b[1;32m   1859\u001b[0m     \u001b[0;32mexcept\u001b[0m \u001b[0mValueError\u001b[0m \u001b[0;32mas\u001b[0m \u001b[0me\u001b[0m\u001b[0;34m:\u001b[0m\u001b[0;34m\u001b[0m\u001b[0;34m\u001b[0m\u001b[0m\n",
      "\u001b[0;32mpandas/_libs/tslib.pyx\u001b[0m in \u001b[0;36mpandas._libs.tslib.array_to_datetime\u001b[0;34m()\u001b[0m\n",
      "\u001b[0;32mpandas/_libs/tslib.pyx\u001b[0m in \u001b[0;36mpandas._libs.tslib.array_to_datetime\u001b[0;34m()\u001b[0m\n",
      "\u001b[0;31mValueError\u001b[0m: Tz-aware datetime.datetime cannot be converted to datetime64 unless utc=True"
     ]
    }
   ],
   "source": [
    "# retrieve periods where acceptances 'potentially impacted by transmission constraints'\n",
    "transmission_constraints = blank_df.copy()\n",
    "\n",
    "trans_query = 'SELECT ts \\\n",
    "FROM public.bmra_boalf \\\n",
    "where bmu_id=\\'%s\\' \\\n",
    "and so=true \\\n",
    "order by ta;'\n",
    "\n",
    "for bmu_id in bmu_ids:\n",
    "    sql_df = pd.read_sql(trans_query % (bmu_id), conn)\n",
    "    new_data = None\n",
    "    for ts in sql_df['ts'].dt.tz_localize(tz='Europe/London').values:\n",
    "        sd, sp = dt_to_sp(pd.Timestamp(ts))\n",
    "        if new_data is None:\n",
    "            new_data = np.array([[sd, sp, 1]])\n",
    "        else:\n",
    "            np.append(new_data,[sd, sp, 1])\n",
    "    new_data_df = pd.DataFrame(new_data, columns=['sd', 'sp', bmu_id])\n",
    "    new_data_df = new_data_df.set_index(['sd', 'sp'])\n",
    "    transmission_constraints.update(new_data)\n",
    "    "
   ]
  },
  {
   "cell_type": "code",
   "execution_count": 21,
   "metadata": {},
   "outputs": [
    {
     "data": {
      "text/plain": [
       "array(['Eastern GSP Group', 'East Midlands', 'LE Distribution',\n",
       "       'Merseyside and North Wales', 'Midlands', 'NORTHERN',\n",
       "       'North Western', 'Southern', 'South Eastern', 'South Wales',\n",
       "       'South Western', 'Yorkshire Electricity', 'SOUTH of SCOTLAND GSP',\n",
       "       'NORTH of SCOTLAND GSP', nan, 'SCOTLAND'], dtype=object)"
      ]
     },
     "execution_count": 21,
     "metadata": {},
     "output_type": "execute_result"
    }
   ],
   "source": [
    "bmus['GSP Group Name'].unique()"
   ]
  },
  {
   "cell_type": "code",
   "execution_count": null,
   "metadata": {},
   "outputs": [],
   "source": []
  }
 ],
 "metadata": {
  "kernelspec": {
   "display_name": "Python 3",
   "language": "python",
   "name": "python3"
  },
  "language_info": {
   "codemirror_mode": {
    "name": "ipython",
    "version": 3
   },
   "file_extension": ".py",
   "mimetype": "text/x-python",
   "name": "python",
   "nbconvert_exporter": "python",
   "pygments_lexer": "ipython3",
   "version": "3.7.3"
  }
 },
 "nbformat": 4,
 "nbformat_minor": 2
}
