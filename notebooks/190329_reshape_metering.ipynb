{
 "cells": [
  {
   "cell_type": "code",
   "execution_count": 1,
   "metadata": {},
   "outputs": [],
   "source": [
    "import pandas as pd\n",
    "import datetime as dt"
   ]
  },
  {
   "cell_type": "code",
   "execution_count": 2,
   "metadata": {},
   "outputs": [],
   "source": [
    "#metered_df = pd.read_csv('D:/Users/nxb12137/ShareFile/Personal Folders/Elexon Data/190304 scotgov availability analysis/metered.csv')\n",
    "metered_df = pd.read_csv('/tmp/pre_20190223.csv')\n"
   ]
  },
  {
   "cell_type": "code",
   "execution_count": 4,
   "metadata": {},
   "outputs": [],
   "source": [
    "metered_export = metered_df[metered_df['import_export_indicator']=='E'][['settlement_date','settlement_period','bmu_id','meter_volume']]\n",
    "\n",
    "metered_export['SD'] = metered_export['settlement_date'].apply(lambda x: dt.date(int(str(x)[:4]),\n",
    "                                                                                 int(str(x)[4:6]),\n",
    "                                                                                 int(str(x)[6:])))\n",
    "\n",
    "\n",
    "metered_export = metered_export.rename(columns={'settlement_period':'SP'}).drop('settlement_date',axis=1)\n",
    "\n",
    "#metered_export[metered_export['SD']<=dt.date(2016,12,31)].pivot_table('meter_volume',index=['SD','SP'], columns='bmu_id').to_csv('D:/Users/nxb12137/ShareFile/Personal Folders/Elexon Data/190304 scotgov availability analysis/old_metered_export.csv')\n",
    "\n",
    "#metered_export[metered_export['SD']>dt.date(2016,12,31)].pivot_table('meter_volume',index=['SD','SP'], columns='bmu_id').to_csv('D:/Users/nxb12137/ShareFile/Personal Folders/Elexon Data/190304 scotgov availability analysis/new_metered_export.csv')\n",
    "\n",
    "metered_export.pivot_table('meter_volume',index=['SD','SP'], columns='bmu_id').to_csv('/tmp/new_metered_export_2.csv')"
   ]
  },
  {
   "cell_type": "code",
   "execution_count": 5,
   "metadata": {},
   "outputs": [],
   "source": [
    "metered_import = metered_df[metered_df['import_export_indicator']=='I'][['settlement_date','settlement_period','bmu_id','meter_volume']]\n",
    "\n",
    "metered_import['SD'] = metered_import['settlement_date'].apply(lambda x: dt.date(int(str(x)[:4]),\n",
    "                                                                                 int(str(x)[4:6]),\n",
    "                                                                                 int(str(x)[6:])))\n",
    "\n",
    "\n",
    "metered_import = metered_import.rename(columns={'settlement_period':'SP'}).drop('settlement_date',axis=1)\n",
    "\n",
    "#metered_import[metered_import['SD']<=dt.date(2016,12,31)].pivot_table('meter_volume',index=['SD','SP'], columns='bmu_id').to_csv('D:/Users/nxb12137/ShareFile/Personal Folders/Elexon Data/190304 scotgov availability analysis/old_metered_import.csv')\n",
    "\n",
    "#metered_import[metered_import['SD']>dt.date(2016,12,31)].pivot_table('meter_volume',index=['SD','SP'], columns='bmu_id').to_csv('D:/Users/nxb12137/ShareFile/Personal Folders/Elexon Data/190304 scotgov availability analysis/new_metered_import.csv')\n",
    "\n",
    "metered_import.pivot_table('meter_volume',index=['SD','SP'], columns='bmu_id').to_csv('/tmp/metered_import_2.csv')"
   ]
  },
  {
   "cell_type": "code",
   "execution_count": null,
   "metadata": {},
   "outputs": [],
   "source": []
  }
 ],
 "metadata": {
  "kernelspec": {
   "display_name": "Python 3",
   "language": "python",
   "name": "python3"
  },
  "language_info": {
   "codemirror_mode": {
    "name": "ipython",
    "version": 3
   },
   "file_extension": ".py",
   "mimetype": "text/x-python",
   "name": "python",
   "nbconvert_exporter": "python",
   "pygments_lexer": "ipython3",
   "version": "3.7.3"
  }
 },
 "nbformat": 4,
 "nbformat_minor": 2
}
